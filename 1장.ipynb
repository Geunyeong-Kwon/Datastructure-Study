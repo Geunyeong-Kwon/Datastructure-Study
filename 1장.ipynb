{
  "nbformat": 4,
  "nbformat_minor": 0,
  "metadata": {
    "colab": {
      "provenance": [],
      "authorship_tag": "ABX9TyNrmi4tWf862ltYH3wcq4O/",
      "include_colab_link": true
    },
    "kernelspec": {
      "name": "python3",
      "display_name": "Python 3"
    },
    "language_info": {
      "name": "python"
    }
  },
  "cells": [
    {
      "cell_type": "markdown",
      "metadata": {
        "id": "view-in-github",
        "colab_type": "text"
      },
      "source": [
        "<a href=\"https://colab.research.google.com/github/Geunyeong-Kwon/Datastructure-Study/blob/main/1%EC%9E%A5.ipynb\" target=\"_parent\"><img src=\"https://colab.research.google.com/assets/colab-badge.svg\" alt=\"Open In Colab\"/></a>"
      ]
    },
    {
      "cell_type": "markdown",
      "source": [
        "#✋자료구조란?\n",
        "- 자료(데이터)에 효율적으로 접근하고 수정할 수 있도록 저장, 조직, 관리하는 방법\n",
        "- 재귀: 어떤 문자게 자신과 성격이 똑같지만 크기만 더 작은 문제를 포함하고 있는 구조\n"
      ],
      "metadata": {
        "id": "bv46NPHVLWkG"
      }
    },
    {
      "cell_type": "markdown",
      "source": [
        "#⭐자료 구조 종류\n",
        "- 선형 자료구조: 리스트, 스택(LIFO: 후입선출), 큐(FIFO: 선입선출)\n",
        "- 색인 자료구조: 검색 트리(이진 검색트리, 균형 검색트리), 해시 테이블\n",
        "- 효율적인 자료구조: 우선순위 큐: 힙\n",
        "- 그래프"
      ],
      "metadata": {
        "id": "8iYums5JMS2R"
      }
    },
    {
      "cell_type": "markdown",
      "source": [
        "#알고리즘 표기법\n",
        "- 자연어 이용한 서술적 표현\n",
        "- 순서도 이용한 도식화\n",
        "- 프로그래밍 언어 이용한 구체화\n",
        "- 가상코드 이용한 추상화\n"
      ],
      "metadata": {
        "id": "oKIe7JyKNQ7l"
      }
    },
    {
      "cell_type": "code",
      "source": [
        "#하노이 탑 알고리즘(Seudo Code)\n",
        "move(n,a,b,c){\n",
        "    if (n>0) then{\n",
        "        move(n-1,a,c,b);\n",
        "        a에 있는 원반을 b로 옯긴다;\n",
        "        move(n-1,c,b,a)\n",
        "    }\n",
        "}"
      ],
      "metadata": {
        "id": "yjS7qYM5OTtN"
      },
      "execution_count": null,
      "outputs": []
    },
    {
      "cell_type": "markdown",
      "source": [
        "#추상 데이터 타입: ADT\n",
        "- 정수, 실수 등은 가장 기초적인 데이터 타입\n",
        "- 세부 사항에서 벗어나 추상적으로 정의한 데이터 타입\n",
        "- 어떤 데이터 타입이 어떤 작업으로 이루어지는지만 표현한 것\n",
        "\n"
      ],
      "metadata": {
        "id": "DhvBgxmqNPg7"
      }
    }
  ]
}