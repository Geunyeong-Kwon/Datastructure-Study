{
  "nbformat": 4,
  "nbformat_minor": 0,
  "metadata": {
    "colab": {
      "provenance": [],
      "authorship_tag": "ABX9TyOEGGBjIZmIyMBD+EX4juo5",
      "include_colab_link": true
    },
    "kernelspec": {
      "name": "python3",
      "display_name": "Python 3"
    },
    "language_info": {
      "name": "python"
    }
  },
  "cells": [
    {
      "cell_type": "markdown",
      "metadata": {
        "id": "view-in-github",
        "colab_type": "text"
      },
      "source": [
        "<a href=\"https://colab.research.google.com/github/Geunyeong-Kwon/Datastructure-Study/blob/main/4_%EC%9E%A5_%EB%A6%AC%EC%8A%A4%ED%8A%B8.ipynb\" target=\"_parent\"><img src=\"https://colab.research.google.com/assets/colab-badge.svg\" alt=\"Open In Colab\"/></a>"
      ]
    },
    {
      "cell_type": "markdown",
      "source": [
        "#리스트\n",
        "- '줄 세워져 있는 데이터' 또는 '쭉 늘어선 데이터'"
      ],
      "metadata": {
        "id": "PYtys9cnRvgs"
      }
    },
    {
      "cell_type": "markdown",
      "source": [
        "#ADT\n",
        "- 추상적 데이터 타입\n",
        "- 행하는 작업의 목록으로 데이터의 타입을 나타낸 것\n",
        "- 구현 방법에 신경 쓰지 않고 , 추상적 레벨에서 데이터 타입을 정의\n",
        "- '어떻게 구현할까?' 가 아니라 '어떻게 사용할까?'에 관심"
      ],
      "metadata": {
        "id": "lzT-A7NjR5ks"
      }
    },
    {
      "cell_type": "markdown",
      "source": [
        "#파이썬의 리스트\n",
        "- 파이썬은 배열을 제공하지 않으나 배열과 유사하지만 좀 더 추상적 자료구조인 리스트 제공\n",
        "- 파이썬의 리스트는 하부가 배열로 구성\n",
        "- 리스트에 대한 오픈 소스가 있더라도 리스트의 내부가 어떻게 구현되는지 정확하게 이해해야 함"
      ],
      "metadata": {
        "id": "e_30Jo4NTQsx"
      }
    },
    {
      "cell_type": "code",
      "source": [
        "#리스트 생성\n",
        "a = []\n",
        "b = [2, 5, 7]"
      ],
      "metadata": {
        "id": "V3kc5HQOTk_2"
      },
      "execution_count": 1,
      "outputs": []
    },
    {
      "cell_type": "markdown",
      "source": [
        "#리스트의 객체 구조\n",
        "- insert(i,x): x를 리스트의 i번 요소로 삽입한다.(맨 앞자리는 0번)\n",
        "- append(x)원소 x를 리스트의 맨 뒤에 추가한다.\n",
        "- pop(i): 리스트의 i번 원소를 삭제하면서 알려준다.\n",
        "- pop(): 맨 마지막 원소 삭제\n",
        "- remove(): 리스트에서 (처음으로 나타나는) x를 삭제한다.\n",
        "- index(x): 원소 x가 리스트의 몇 번 원소인지 알려준다.\n",
        "- clear(): 리스트를 깨끗이 청소한다.\n",
        "- count(x): 리스트에서 원소 x가 몇 번 나타나는지 알려준다.\n",
        "- extend(a): 리스트에 나열할 수 있는 객체(ex 리스트) a를 풀어서 추가한다.\n",
        "- copy(): 리스트를 복사한다.\n",
        "- reverse(): 리스트의 순서를 역으로 뒤집는다.\n",
        "- sort(): 리스트의 원소들을 정렬한다.(ascending, 오름차순으로 정렬)"
      ],
      "metadata": {
        "id": "qUAmmVxZTgea"
      }
    },
    {
      "cell_type": "markdown",
      "source": [],
      "metadata": {
        "id": "P_IspFMxTQxW"
      }
    },
    {
      "cell_type": "markdown",
      "source": [],
      "metadata": {
        "id": "wXboCmL5SLuA"
      }
    }
  ]
}