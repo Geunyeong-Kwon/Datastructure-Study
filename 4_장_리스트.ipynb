{
  "nbformat": 4,
  "nbformat_minor": 0,
  "metadata": {
    "colab": {
      "provenance": [],
      "authorship_tag": "ABX9TyNdQBEoUzgm3rk2RolViBM7",
      "include_colab_link": true
    },
    "kernelspec": {
      "name": "python3",
      "display_name": "Python 3"
    },
    "language_info": {
      "name": "python"
    }
  },
  "cells": [
    {
      "cell_type": "markdown",
      "metadata": {
        "id": "view-in-github",
        "colab_type": "text"
      },
      "source": [
        "<a href=\"https://colab.research.google.com/github/Geunyeong-Kwon/Datastructure-Study/blob/main/4_%EC%9E%A5_%EB%A6%AC%EC%8A%A4%ED%8A%B8.ipynb\" target=\"_parent\"><img src=\"https://colab.research.google.com/assets/colab-badge.svg\" alt=\"Open In Colab\"/></a>"
      ]
    },
    {
      "cell_type": "markdown",
      "source": [
        "#리스트\n",
        "- '줄 세워져 있는 데이터' 또는 '쭉 늘어선 데이터'"
      ],
      "metadata": {
        "id": "PYtys9cnRvgs"
      }
    },
    {
      "cell_type": "markdown",
      "source": [
        "#ADT\n",
        "- 추상적 데이터 타입\n",
        "- 행하는 작업의 목록으로 데이터의 타입을 나타낸 것\n",
        "- 구현 방법에 신경 쓰지 않고 , 추상적 레벨에서 데이터 타입을 정의\n",
        "- '어떻게 구현할까?' 가 아니라 '어떻게 사용할까?'에 관심"
      ],
      "metadata": {
        "id": "lzT-A7NjR5ks"
      }
    },
    {
      "cell_type": "markdown",
      "source": [
        "#파이썬의 리스트\n",
        "- 파이썬은 배열을 제공하지 않으나 배열과 유사하지만 좀 더 추상적 자료구조인 리스트 제공\n",
        "- 파이썬의 리스트는 하부가 배열로 구성\n",
        "- 리스트에 대한 오픈 소스가 있더라도 리스트의 내부가 어떻게 구현되는지 정확하게 이해해야 함"
      ],
      "metadata": {
        "id": "e_30Jo4NTQsx"
      }
    },
    {
      "cell_type": "code",
      "source": [
        "#리스트 생성\n",
        "a = []\n",
        "b = [2, 5, 7]"
      ],
      "metadata": {
        "id": "V3kc5HQOTk_2"
      },
      "execution_count": null,
      "outputs": []
    },
    {
      "cell_type": "markdown",
      "source": [
        "#리스트의 객체 구조\n",
        "- insert(i,x): x를 리스트의 i번 요소로 삽입한다.(맨 앞자리는 0번)\n",
        "- append(x)원소 x를 리스트의 맨 뒤에 추가한다.\n",
        "- pop(i): 리스트의 i번 원소를 삭제하면서 알려준다.\n",
        "- pop(): 맨 마지막 원소 삭제\n",
        "- remove(): 리스트에서 (처음으로 나타나는) x를 삭제한다.\n",
        "- index(x): 원소 x가 리스트의 몇 번 원소인지 알려준다.\n",
        "- clear(): 리스트를 깨끗이 청소한다.\n",
        "- count(x): 리스트에서 원소 x가 몇 번 나타나는지 알려준다.\n",
        "- extend(a): 리스트에 나열할 수 있는 객체(ex 리스트) a를 풀어서 추가한다.\n",
        "- copy(): 리스트를 복사한다.\n",
        "- reverse(): 리스트의 순서를 역으로 뒤집는다.\n",
        "- sort(): 리스트의 원소들을 정렬한다.(ascending, 오름차순으로 정렬)"
      ],
      "metadata": {
        "id": "qUAmmVxZTgea"
      }
    },
    {
      "cell_type": "markdown",
      "source": [],
      "metadata": {
        "id": "P_IspFMxTQxW"
      }
    },
    {
      "cell_type": "markdown",
      "source": [
        "#파이썬 내장 리스트의 한계\n",
        "- 파이썬에서의 리스트 하부가 배열로 구성되어 있는 한 피할 수 없는 효율 존재\n",
        "- 원소 삽입 시 주변 원소들 왼쪽이나 오른쪽으로 shfit\n",
        "- 원소 삭제 시 주변 원소들 왼쪽이나 오른쪽으로 shift\n",
        "- 배열 꽉 찬 상태: 십입이 시도될 때 새 배열을 할당하고 원소들을 모두 복사하여 처리  -> 삽입이나 삭제보다 더 많은 부담\n"
      ],
      "metadata": {
        "id": "wXboCmL5SLuA"
      }
    },
    {
      "cell_type": "markdown",
      "source": [
        "#리스트(List)\n",
        "- 하부 구조로 배열을 사용하므로 공간(메모리)를 미리 확보해야 함\n",
        "- 리스트에 얼마나 많은 원소가 들어올 지 예상 어려움 -> 공간 낭비 불가피\n",
        "- 배열의 공간 빠듯하게 잡아두었을 경우 원소가 가득 차면 더 큰 배열 할당\n",
        "- 원소의 삽입/삭제 시 일부 또는 전부의 원소를 시프트\n",
        "- 리스크가 길면 수행 속도 저하 초래\n"
      ],
      "metadata": {
        "id": "RB2dpnZbW-WM"
      }
    },
    {
      "cell_type": "markdown",
      "source": [
        "#연결 리스트(Linked List)\n",
        "- 배열의 공간 낭비를 피할 수 있는 자료구조\n",
        "- 원소가 추가될 때마다 공간을 할당 받는 동적 할당 방식"
      ],
      "metadata": {
        "id": "tHYUopVJXbg1"
      }
    },
    {
      "cell_type": "markdown",
      "source": [
        "#연결 리스트의 노드 구성\n",
        "- item field: 원소(정수, 실수, 문자 등)\n",
        "- next field: 다음 노드를 가리키는 링크(reference, pointer)"
      ],
      "metadata": {
        "id": "swYMQe38XpzW"
      }
    },
    {
      "cell_type": "code",
      "source": [
        "class ListNode: \n",
        "  def __init__(self,newItem,nextNode:'ListNode'):\n",
        "    self.item=newItem \n",
        "    self.next=nextNode #다음 노드의 주소"
      ],
      "metadata": {
        "id": "II0ZRpkVYJZX"
      },
      "execution_count": null,
      "outputs": []
    },
    {
      "cell_type": "markdown",
      "source": [
        "#연결 리스트의 일반 형태\n",
        "- __head: 첫 번째 노드를 가리키는 레퍼런스\n",
        "- 맨 마지막 노드의 링크는 뒤에 더 이상 노드가 없다는 의미로 None(/)을 할당\n",
        "- 배열처럼 연속된 공간을 할당 받을 필요가 없으며, 노드들을 조각족각 할당 받은 공간끼리 링크로 연결\n"
      ],
      "metadata": {
        "id": "4B6hXrzJYb-7"
      }
    },
    {
      "cell_type": "markdown",
      "source": [
        "#단순 연결 리스트(Single LinKed List)\n",
        "[삽입]\n",
        "-더미 헤드 X: (맨 앞에 원소를 추가하는 것 / 중간,끝에 삽입하는 것으로 경우 구분)\n",
        "\n",
        "<맨 앞에 원소 삽입하는 경우>: 직전 노드가 존재하지 않으므로 prev를 사용할 수 없음.\n",
        " 1. 새로운 노드에 item값을 대입한다.(newNode.item=x)\n",
        " 2. 새로운 노드의 next 값에 head 노드가 가리키고 있던 다음 노드의 주소를 대입한다. (newNode.next=__head)\n",
        " 3. head 노드가 새로운 노드를 가리키도록 한다. (__head=newNode)\n",
        " 4. 원소 수가 하나 늘었으므로 전체 원소수를 1 증가시킨다. (__newItems += 1)\n",
        "\n",
        "<중간, 끝에 삽입하는 경우>\n",
        " 1. 새로운 노드에 item값을 대입한다. (newNode.item=x)\n",
        " 2. 새로운 노드의 next값(newNode.next)에 직전 노드(prev)가 가리키고 있던 노드의 주소(prev.next)를 대입한다. (newNode.next=prev.next)\n",
        " 3. 직전 노드가 newnode를 가리키도록 한다. (prev.next=newNode)\n",
        " 4. 원소 수가 하나 늘었으므로 전체 원소수를 1 증가시킨다. (__newItems += 1)\n",
        "\n",
        "  if i == 0: #맨 앞에 원소를 삽입하는 경우\n",
        "      newNode.item=x # 새로운 노드에 data값 대입\n",
        "      newNode.next=__head #새로운 노드의 next에 head가 가리키고 있던 다음 노드의 주소를 대입\n",
        "      __head=newNode # head 노드가 새로운 노드를 가리키도록 한다.\n",
        "      __numitems +=1 # 새로운 노드가 추가되었으므로 전체 원소 수는 1 증가\n",
        "\n",
        " else: #원소를 맨 앞에 삽입하지 않을때\n",
        "      newNode.item=x #새로운 노드에 data값 대입\n",
        "      newNode.next=prev.next #새로운 노드의 next에 직전 노드가 가리키고 있던 노드의 주소를 대입\n",
        "      prev.next=newNode #직전 노드가 newNode 가리키도록 함\n",
        "      __numitems += 1 # 새로운 노드가 추가되었으므로 전체 원소 수는 1 증가"
      ],
      "metadata": {
        "id": "mIKrZDyDYHvJ"
      }
    }
  ]
}