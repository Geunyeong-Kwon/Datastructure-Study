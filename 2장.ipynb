{
  "nbformat": 4,
  "nbformat_minor": 0,
  "metadata": {
    "colab": {
      "provenance": [],
      "authorship_tag": "ABX9TyMgpKuaXQWQT8bWOcKorcxm",
      "include_colab_link": true
    },
    "kernelspec": {
      "name": "python3",
      "display_name": "Python 3"
    },
    "language_info": {
      "name": "python"
    }
  },
  "cells": [
    {
      "cell_type": "markdown",
      "metadata": {
        "id": "view-in-github",
        "colab_type": "text"
      },
      "source": [
        "<a href=\"https://colab.research.google.com/github/Geunyeong-Kwon/Datastructure-Study/blob/main/2%EC%9E%A5.ipynb\" target=\"_parent\"><img src=\"https://colab.research.google.com/assets/colab-badge.svg\" alt=\"Open In Colab\"/></a>"
      ]
    },
    {
      "cell_type": "markdown",
      "source": [
        "#재귀란?\n",
        "- recursion\n",
        "- 성격은 같고 크기만 작은 나를 찾아 큰 나와 작은 나가 연결된 관계를 드러내는 것\n"
      ],
      "metadata": {
        "id": "d9KguyC_SBWm"
      }
    },
    {
      "cell_type": "markdown",
      "source": [
        "#재귀 알고리즘 = 자기호출 알고리즘\n",
        "- 자신과 똑같지만 크기만 작은 알고리즘을 호출하는 알고리즘\n",
        "- 장점: 복잡한 문제를 간명하게 볼 수 있다.\n",
        "- 단점: 지속적 알고리즘 호출에 따른 메모리 사용량 증가\n",
        "- 재귀: __경계조건__ + __재귀 함수__ 로 구성성"
      ],
      "metadata": {
        "id": "8vOvUczuTW-T"
      }
    },
    {
      "cell_type": "markdown",
      "source": [],
      "metadata": {
        "id": "szGivZSnSwpF"
      }
    },
    {
      "cell_type": "code",
      "source": [
        "#재귀 구조의 예\n",
        "#등차 수열(공차가 3)\n",
        "def seq(n):\n",
        "  if (n==1): # 경계 조건: n이 1일때 1을 반환\n",
        "    return 1\n",
        "  else: # 재귀 함수: n이 1이 아닐 때 seq 함수 호출 + 3\n",
        "    return seq(n-1)+3\n",
        "  \n",
        "a = seq(int(input(\"enter n : \"))) # n을 사용자가 입력\n",
        "print(\"number is :\",a) # a 출력\n"
      ],
      "metadata": {
        "colab": {
          "base_uri": "https://localhost:8080/"
        },
        "id": "LMb3YoFsTLl-",
        "outputId": "fafd5d72-9435-4728-a4c4-9a3da740650d"
      },
      "execution_count": 2,
      "outputs": [
        {
          "output_type": "stream",
          "name": "stdout",
          "text": [
            "enter n : 5\n",
            "number is : 13\n"
          ]
        }
      ]
    },
    {
      "cell_type": "code",
      "source": [
        "#피보나치 수열(재귀 버전), seudo code\n",
        "def fib(n):\n",
        "  if (n==1 or n==2): # 경계 조건\n",
        "    return 1\n",
        "  else: # 재귀 함수\n",
        "    return fib(n-1) + fib(n-2)\n",
        "\n",
        "a = int(input(\"enter n : \"))\n",
        "print(\"number is :\",a)\n"
      ],
      "metadata": {
        "colab": {
          "base_uri": "https://localhost:8080/"
        },
        "id": "am0-AFfCVN3p",
        "outputId": "da55f180-05d9-4251-baae-91305c7df971"
      },
      "execution_count": 3,
      "outputs": [
        {
          "output_type": "stream",
          "name": "stdout",
          "text": [
            "enter n : 6\n",
            "number is : 6\n"
          ]
        }
      ]
    },
    {
      "cell_type": "code",
      "source": [
        "#하노이탑\n",
        "def hanoi(n,a,b,c):\n",
        "  if n==1:\n",
        "    print(a,'->',b)\n",
        "    return\n",
        "\n",
        "  hanoi(n-1,a,c,b)\n",
        "  print(a,'->',b)\n",
        "  hanoi(n-1,c,b,a)\n",
        "\n",
        "print('n=3')\n",
        "hanoi(3,1,2,3)"
      ],
      "metadata": {
        "colab": {
          "base_uri": "https://localhost:8080/"
        },
        "id": "jutubphxT75K",
        "outputId": "b766f861-0512-491e-a8a5-9abd198125bb"
      },
      "execution_count": 4,
      "outputs": [
        {
          "output_type": "stream",
          "name": "stdout",
          "text": [
            "n=3\n",
            "1 -> 2\n",
            "1 -> 3\n",
            "2 -> 3\n",
            "1 -> 2\n",
            "3 -> 1\n",
            "3 -> 2\n",
            "1 -> 2\n"
          ]
        }
      ]
    },
    {
      "cell_type": "markdown",
      "source": [
        "#선택 정렬\n",
        "- 정렬 알고리즘: 배열 A[0, ..., n-1]에 워노가 주어지고 이를 크기 순으로 정렬하는 방법 <br> ex) 선택 정렬,버블 정렬, 분산 정렬, 삽입 정렬, 합치기 정렬, 퀵 정렬...\n",
        "- 가장 기초적인 알고리즘\n",
        "1. n개의 원소 중 최대 원소를 찾는다.\n",
        "2. 최대 원소와 맨 오른쪽 원소의 자리를 바꾼다.\n",
        "3. 맨 오른쪽 원소를 제외한 (n-1)개 원소들을 대상으로 1과 2를 반복한다.\n",
        "4. (경계 조건) 원소가 1개 남을때"
      ],
      "metadata": {
        "id": "Y-gpl-TAeo6c"
      }
    },
    {
      "cell_type": "code",
      "source": [
        "#선택 정렬\n",
        "def sel_sort(a):\n",
        "  n = len(a)\n",
        "  b = []\n",
        "  while n > 1:\n",
        "    x = max(a)\n",
        "    a.remove(x)\n",
        "    b = [x] + b\n",
        "    n = n - 1\n",
        "  return b\n",
        "\n",
        "#재귀적 정렬\n",
        "def sel_sort_rec(a):\n",
        "  if a!= []:\n",
        "    x = max(a)\n",
        "    a.remove(x)\n",
        "    return sel_sort_rec(a) + [x]\n",
        "  else:\n",
        "    return []\n",
        "\n",
        "a = [4,3,5,1,2,6,8,9,3,5,2,6,7]\n",
        "print('입력 행렬',a)\n",
        "b = sel_sort(a)\n",
        "print('선택 정렬 결과',b)\n",
        "\n",
        "a=[4,3,5,1,2,6,8,9,3,5,2,6,7]\n",
        "c = sel_sort_rec(a)\n",
        "print('재귀 버전 결과',c)"
      ],
      "metadata": {
        "colab": {
          "base_uri": "https://localhost:8080/"
        },
        "id": "_sv727iJud4N",
        "outputId": "91516347-6028-4fd4-bc7f-56394f62f22d"
      },
      "execution_count": 5,
      "outputs": [
        {
          "output_type": "stream",
          "name": "stdout",
          "text": [
            "입력 행렬 [4, 3, 5, 1, 2, 6, 8, 9, 3, 5, 2, 6, 7]\n",
            "선택 정렬 결과 [2, 2, 3, 3, 4, 5, 5, 6, 6, 7, 8, 9]\n",
            "재귀 버전 결과 [1, 2, 2, 3, 3, 4, 5, 5, 6, 6, 7, 8, 9]\n"
          ]
        }
      ]
    },
    {
      "cell_type": "code",
      "source": [],
      "metadata": {
        "id": "8_GRu8WOvUai"
      },
      "execution_count": null,
      "outputs": []
    }
  ]
}