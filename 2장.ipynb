{
  "nbformat": 4,
  "nbformat_minor": 0,
  "metadata": {
    "colab": {
      "provenance": [],
      "authorship_tag": "ABX9TyOEYejpJfi1PWLCcffgaDyh",
      "include_colab_link": true
    },
    "kernelspec": {
      "name": "python3",
      "display_name": "Python 3"
    },
    "language_info": {
      "name": "python"
    }
  },
  "cells": [
    {
      "cell_type": "markdown",
      "metadata": {
        "id": "view-in-github",
        "colab_type": "text"
      },
      "source": [
        "<a href=\"https://colab.research.google.com/github/Geunyeong-Kwon/Datastructure-Study/blob/main/2%EC%9E%A5.ipynb\" target=\"_parent\"><img src=\"https://colab.research.google.com/assets/colab-badge.svg\" alt=\"Open In Colab\"/></a>"
      ]
    },
    {
      "cell_type": "markdown",
      "source": [
        "#재귀란?\n",
        "- recursion\n",
        "- 성격은 같고 크기만 작은 나를 찾아 큰 나와 작은 나가 연결된 관계를 드러내는 것\n"
      ],
      "metadata": {
        "id": "d9KguyC_SBWm"
      }
    },
    {
      "cell_type": "markdown",
      "source": [
        "#재귀 알고리즘 = 자기호출 알고리즘\n",
        "- 자신과 똑같지만 크기만 작은 알고리즘을 호출하는 알고리즘\n",
        "- 장점: 복잡한 문제를 간명하게 볼 수 있다.\n",
        "- 단점: 지속적 알고리즘 호출에 따른 메모리 사용량 증가\n",
        "- 재귀: __경계조건__ + __재귀 함수__ 로 구성성"
      ],
      "metadata": {
        "id": "8vOvUczuTW-T"
      }
    },
    {
      "cell_type": "markdown",
      "source": [],
      "metadata": {
        "id": "szGivZSnSwpF"
      }
    },
    {
      "cell_type": "code",
      "source": [
        "#재귀 구조의 예\n",
        "#등차 수열(공차가 3)\n",
        "def seq(n):\n",
        "  if (n==1): # 경계 조건: n이 1일때 1을 반환\n",
        "    return 1\n",
        "  else: # 재귀 함수: n이 1이 아닐 때 seq 함수 호출 + 3\n",
        "    return seq(n-1)+3\n",
        "  \n",
        "a = seq(int(input(\"enter n : \"))) # n을 사용자가 입력\n",
        "print(\"number is :\",a) # a 출력\n"
      ],
      "metadata": {
        "colab": {
          "base_uri": "https://localhost:8080/"
        },
        "id": "LMb3YoFsTLl-",
        "outputId": "fafd5d72-9435-4728-a4c4-9a3da740650d"
      },
      "execution_count": 2,
      "outputs": [
        {
          "output_type": "stream",
          "name": "stdout",
          "text": [
            "enter n : 5\n",
            "number is : 13\n"
          ]
        }
      ]
    },
    {
      "cell_type": "code",
      "source": [
        "#피보나치 수열(재귀 버전), seudo code\n",
        "def fib(n):\n",
        "  if (n==1 or n==2): # 경계 조건\n",
        "    return 1\n",
        "  else: # 재귀 함수\n",
        "    return fib(n-1) + fib(n-2)\n",
        "\n",
        "a = int(input(\"enter n : \"))\n",
        "print(\"number is :\",a)\n"
      ],
      "metadata": {
        "colab": {
          "base_uri": "https://localhost:8080/"
        },
        "id": "am0-AFfCVN3p",
        "outputId": "da55f180-05d9-4251-baae-91305c7df971"
      },
      "execution_count": 3,
      "outputs": [
        {
          "output_type": "stream",
          "name": "stdout",
          "text": [
            "enter n : 6\n",
            "number is : 6\n"
          ]
        }
      ]
    },
    {
      "cell_type": "code",
      "source": [],
      "metadata": {
        "id": "jutubphxT75K"
      },
      "execution_count": null,
      "outputs": []
    }
  ]
}