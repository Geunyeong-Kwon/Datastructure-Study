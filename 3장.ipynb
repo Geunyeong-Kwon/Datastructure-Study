{
  "nbformat": 4,
  "nbformat_minor": 0,
  "metadata": {
    "colab": {
      "provenance": [],
      "authorship_tag": "ABX9TyP+mBGxRExfbgyn0QEoIdfP",
      "include_colab_link": true
    },
    "kernelspec": {
      "name": "python3",
      "display_name": "Python 3"
    },
    "language_info": {
      "name": "python"
    }
  },
  "cells": [
    {
      "cell_type": "markdown",
      "metadata": {
        "id": "view-in-github",
        "colab_type": "text"
      },
      "source": [
        "<a href=\"https://colab.research.google.com/github/Geunyeong-Kwon/Datastructure-Study/blob/main/3%EC%9E%A5.ipynb\" target=\"_parent\"><img src=\"https://colab.research.google.com/assets/colab-badge.svg\" alt=\"Open In Colab\"/></a>"
      ]
    },
    {
      "cell_type": "markdown",
      "source": [
        "#Python\n",
        "- 인터프리터 언어\n",
        "- Dynamic Typing(동적 타이핑)\n",
        "- 변수의 타입을 미리 정하지 않음\n",
        "- 변수의 타입이 수행하면서 정해지고, 이후 다른 타입의 값이 들어오면 타입 변경\n",
        "- Static Typing(정적 타이핑): C.C++ 등 대부분의 언어, 변수의 타입이 프로그래밍 시 미리 결정\n",
        "- 리스트의 원소들은 동적 타이핑을 따르므로 한 리스트에서 여러 타입의 개체를 혼용할 수 있음\n",
        "- 배열의 정적 할당과 대비 리스트는 공간도 동적 할당 <ul> - 하부에서 배열로 구현되는데 정적 할당을 하는 배열을 이용하여 동적 할당을 하는 리스트를 요령 있게 관리 <ul>단 , 이런 융동성의 결과로 배열에 비해 수행시간이 더 걸림(배열을 직접 사용하려면 Numpy 라이브러리 사용)\n",
        "- 파이썬은 최대한 직관적인 문법을 선택 -> 주종관계는 모두 들여쓰기에 의해 결정\n",
        "- 프로그래밍을 쉽게 할 수 있지만 로직이 복잡할 떄는 주의해야 함"
      ],
      "metadata": {
        "id": "fF-rrpd-LwAW"
      }
    },
    {
      "cell_type": "code",
      "source": [
        "a=[3.15,20]\n",
        "a.append(50)\n",
        "print(a)"
      ],
      "metadata": {
        "colab": {
          "base_uri": "https://localhost:8080/"
        },
        "id": "ZdULhOjqPUYA",
        "outputId": "3449f57d-818f-47ea-cb62-5b2883eba92f"
      },
      "execution_count": 3,
      "outputs": [
        {
          "output_type": "stream",
          "name": "stdout",
          "text": [
            "[3.15, 20, 50]\n"
          ]
        }
      ]
    },
    {
      "cell_type": "markdown",
      "source": [],
      "metadata": {
        "id": "cuJXW76BONTM"
      }
    },
    {
      "cell_type": "code",
      "source": [
        "a[0]=\"안녕\"\n",
        "a[2]=7.8\n",
        "print(a)"
      ],
      "metadata": {
        "colab": {
          "base_uri": "https://localhost:8080/"
        },
        "id": "dqvVqGlhP3T_",
        "outputId": "e14b24d0-3cd8-4cbc-bd69-2ea21e23aab6"
      },
      "execution_count": 4,
      "outputs": [
        {
          "output_type": "stream",
          "name": "stdout",
          "text": [
            "['안녕', 20, 7.8]\n"
          ]
        }
      ]
    },
    {
      "cell_type": "code",
      "source": [],
      "metadata": {
        "id": "J5Kur9GKP9l-"
      },
      "execution_count": null,
      "outputs": []
    }
  ]
}